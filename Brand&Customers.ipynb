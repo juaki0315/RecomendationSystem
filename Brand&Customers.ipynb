{
  "nbformat": 4,
  "nbformat_minor": 0,
  "metadata": {
    "colab": {
      "provenance": [],
      "authorship_tag": "ABX9TyNJPzVGP0Otm0U1mEZOcghx",
      "include_colab_link": true
    },
    "kernelspec": {
      "name": "python3",
      "display_name": "Python 3"
    },
    "language_info": {
      "name": "python"
    }
  },
  "cells": [
    {
      "cell_type": "markdown",
      "metadata": {
        "id": "view-in-github",
        "colab_type": "text"
      },
      "source": [
        "<a href=\"https://colab.research.google.com/github/juaki0315/RecomendationSystem/blob/main/Brand%26Customers.ipynb\" target=\"_parent\"><img src=\"https://colab.research.google.com/assets/colab-badge.svg\" alt=\"Open In Colab\"/></a>"
      ]
    },
    {
      "cell_type": "markdown",
      "source": [
        "Este proyecto consiste en el desarrollo de un sistema de recomendación de productos para el sector moda, utilizando datos de compras de clientes en distintas marcas pertenecientes a un mismo grupo empresarial. El objetivo es integrar, analizar y predecir patrones de compra, proporcionando recomendaciones personalizadas para cada cliente, basadas en sus hábitos de compra y preferencias históricas."
      ],
      "metadata": {
        "id": "s6KKoFScGXHj"
      }
    },
    {
      "cell_type": "markdown",
      "source": [
        "Lo primero será generar un dataset con los diferentes productos de moda"
      ],
      "metadata": {
        "id": "IGJkzI_TO8R7"
      }
    },
    {
      "cell_type": "code",
      "source": [
        "import pandas as pd\n",
        "import numpy as np\n",
        "import random\n",
        "\n",
        "np.random.seed(15) # Para que el randomizado sea siempre el mismo\n",
        "\n",
        "# Definir categorías y subcategorías de moda\n",
        "categorias_moda = {\n",
        "    \"Ropa Hombre\": {\n",
        "        \"Camisetas\": (10, 50),\n",
        "        \"Pantalones\": (30, 100),\n",
        "        \"Abrigos\": (60, 300),\n",
        "        \"Camisas\": (25, 80),\n",
        "        \"Calzado\": (50, 200)\n",
        "    },\n",
        "    \"Ropa Mujer\": {\n",
        "        \"Vestidos\": (30, 150),\n",
        "        \"Blusas\": (20, 70),\n",
        "        \"Faldas\": (25, 80),\n",
        "        \"Pantalones\": (30, 100),\n",
        "        \"Calzado\": (50, 200)\n",
        "    },\n",
        "    \"Accesorios\": {\n",
        "        \"Bolsos\": (20, 150),\n",
        "        \"Sombreros\": (15, 60),\n",
        "        \"Bufandas\": (10, 50),\n",
        "        \"Gafas de sol\": (20, 120),\n",
        "        \"Joyería\": (30, 200)\n",
        "    },\n",
        "    \"Deporte\": {\n",
        "        \"Ropa deportiva\": (20, 100),\n",
        "        \"Zapatillas deportivas\": (50, 200),\n",
        "        \"Accesorios fitness\": (10, 80)\n",
        "    }\n",
        "}\n",
        "\n",
        "productos = []\n",
        "for categoria, subcategorias in categorias_moda.items():\n",
        "    for subcategoria, (precio_min, precio_max) in subcategorias.items():\n",
        "        for _ in range(40):  # Generar 40 productos por subcategoría\n",
        "            productos.append({\n",
        "                \"producto_id\": len(productos) + 1,\n",
        "                \"nombre_producto\": f\"{subcategoria}_{len(productos) + 1}\",\n",
        "                \"categoria\": categoria,\n",
        "                \"subcategoria\": subcategoria,\n",
        "                \"precio_base\": np.round(np.random.uniform(precio_min, precio_max), 2),\n",
        "                \"marca\": np.random.choice([\"Zara\", \"Pull&Bear\", \"Bershka\"]),\n",
        "                \"temporada\": np.random.choice([\"Primavera/Verano\", \"Otoño/Invierno\"]),\n",
        "                \"estilo\": np.random.choice([\"Casual\", \"Formal\", \"Deportivo\"]),\n",
        "                \"material\": np.random.choice([\"Algodón\", \"Poliéster\", \"Cuero\", \"Lana\"])\n",
        "            })\n",
        "\n",
        "productos_df = pd.DataFrame(productos)\n",
        "\n",
        "print(\"Productos de moda:\")\n",
        "print(productos_df.head())"
      ],
      "metadata": {
        "colab": {
          "base_uri": "https://localhost:8080/"
        },
        "id": "-nGILDnfICtR",
        "outputId": "a3f4ffaa-2504-435f-c34c-0aa5dbb80317"
      },
      "execution_count": 6,
      "outputs": [
        {
          "output_type": "stream",
          "name": "stdout",
          "text": [
            "Productos de moda:\n",
            "   producto_id nombre_producto    categoria subcategoria  precio_base  \\\n",
            "0            1     Camisetas_1  Ropa Hombre    Camisetas        43.95   \n",
            "1            2     Camisetas_2  Ropa Hombre    Camisetas        42.74   \n",
            "2            3     Camisetas_3  Ropa Hombre    Camisetas        38.80   \n",
            "3            4     Camisetas_4  Ropa Hombre    Camisetas        20.57   \n",
            "4            5     Camisetas_5  Ropa Hombre    Camisetas        26.90   \n",
            "\n",
            "       marca         temporada     estilo   material  \n",
            "0       Zara    Otoño/Invierno     Casual    Algodón  \n",
            "1  Pull&Bear  Primavera/Verano     Formal  Poliéster  \n",
            "2       Zara  Primavera/Verano  Deportivo       Lana  \n",
            "3  Pull&Bear    Otoño/Invierno     Casual  Poliéster  \n",
            "4    Bershka    Otoño/Invierno     Casual      Cuero  \n"
          ]
        }
      ]
    }
  ]
}